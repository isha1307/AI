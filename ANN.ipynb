{
 "cells": [
  {
   "cell_type": "code",
   "execution_count": 1,
   "metadata": {},
   "outputs": [],
   "source": [
    "import numpy as np\n",
    "import matplotlib.pyplot as plt\n",
    "import pandas as pd"
   ]
  },
  {
   "cell_type": "code",
   "execution_count": 2,
   "metadata": {},
   "outputs": [],
   "source": [
    "from sklearn.preprocessing import LabelEncoder, OneHotEncoder\n",
    "from sklearn.model_selection import train_test_split\n",
    "from sklearn.preprocessing import StandardScaler"
   ]
  },
  {
   "cell_type": "code",
   "execution_count": 3,
   "metadata": {},
   "outputs": [
    {
     "data": {
      "text/html": [
       "<div>\n",
       "<style scoped>\n",
       "    .dataframe tbody tr th:only-of-type {\n",
       "        vertical-align: middle;\n",
       "    }\n",
       "\n",
       "    .dataframe tbody tr th {\n",
       "        vertical-align: top;\n",
       "    }\n",
       "\n",
       "    .dataframe thead th {\n",
       "        text-align: right;\n",
       "    }\n",
       "</style>\n",
       "<table border=\"1\" class=\"dataframe\">\n",
       "  <thead>\n",
       "    <tr style=\"text-align: right;\">\n",
       "      <th></th>\n",
       "      <th>RowNumber</th>\n",
       "      <th>CustomerId</th>\n",
       "      <th>Surname</th>\n",
       "      <th>CreditScore</th>\n",
       "      <th>Geography</th>\n",
       "      <th>Gender</th>\n",
       "      <th>Age</th>\n",
       "      <th>Tenure</th>\n",
       "      <th>Balance</th>\n",
       "      <th>NumOfProducts</th>\n",
       "      <th>HasCrCard</th>\n",
       "      <th>IsActiveMember</th>\n",
       "      <th>EstimatedSalary</th>\n",
       "      <th>Exited</th>\n",
       "    </tr>\n",
       "  </thead>\n",
       "  <tbody>\n",
       "    <tr>\n",
       "      <th>0</th>\n",
       "      <td>1</td>\n",
       "      <td>15634602</td>\n",
       "      <td>Hargrave</td>\n",
       "      <td>619</td>\n",
       "      <td>France</td>\n",
       "      <td>Female</td>\n",
       "      <td>42</td>\n",
       "      <td>2</td>\n",
       "      <td>0.00</td>\n",
       "      <td>1</td>\n",
       "      <td>1</td>\n",
       "      <td>1</td>\n",
       "      <td>101348.88</td>\n",
       "      <td>1</td>\n",
       "    </tr>\n",
       "    <tr>\n",
       "      <th>1</th>\n",
       "      <td>2</td>\n",
       "      <td>15647311</td>\n",
       "      <td>Hill</td>\n",
       "      <td>608</td>\n",
       "      <td>Spain</td>\n",
       "      <td>Female</td>\n",
       "      <td>41</td>\n",
       "      <td>1</td>\n",
       "      <td>83807.86</td>\n",
       "      <td>1</td>\n",
       "      <td>0</td>\n",
       "      <td>1</td>\n",
       "      <td>112542.58</td>\n",
       "      <td>0</td>\n",
       "    </tr>\n",
       "    <tr>\n",
       "      <th>2</th>\n",
       "      <td>3</td>\n",
       "      <td>15619304</td>\n",
       "      <td>Onio</td>\n",
       "      <td>502</td>\n",
       "      <td>France</td>\n",
       "      <td>Female</td>\n",
       "      <td>42</td>\n",
       "      <td>8</td>\n",
       "      <td>159660.80</td>\n",
       "      <td>3</td>\n",
       "      <td>1</td>\n",
       "      <td>0</td>\n",
       "      <td>113931.57</td>\n",
       "      <td>1</td>\n",
       "    </tr>\n",
       "    <tr>\n",
       "      <th>3</th>\n",
       "      <td>4</td>\n",
       "      <td>15701354</td>\n",
       "      <td>Boni</td>\n",
       "      <td>699</td>\n",
       "      <td>France</td>\n",
       "      <td>Female</td>\n",
       "      <td>39</td>\n",
       "      <td>1</td>\n",
       "      <td>0.00</td>\n",
       "      <td>2</td>\n",
       "      <td>0</td>\n",
       "      <td>0</td>\n",
       "      <td>93826.63</td>\n",
       "      <td>0</td>\n",
       "    </tr>\n",
       "    <tr>\n",
       "      <th>4</th>\n",
       "      <td>5</td>\n",
       "      <td>15737888</td>\n",
       "      <td>Mitchell</td>\n",
       "      <td>850</td>\n",
       "      <td>Spain</td>\n",
       "      <td>Female</td>\n",
       "      <td>43</td>\n",
       "      <td>2</td>\n",
       "      <td>125510.82</td>\n",
       "      <td>1</td>\n",
       "      <td>1</td>\n",
       "      <td>1</td>\n",
       "      <td>79084.10</td>\n",
       "      <td>0</td>\n",
       "    </tr>\n",
       "  </tbody>\n",
       "</table>\n",
       "</div>"
      ],
      "text/plain": [
       "   RowNumber  CustomerId   Surname  CreditScore Geography  Gender  Age  \\\n",
       "0          1    15634602  Hargrave          619    France  Female   42   \n",
       "1          2    15647311      Hill          608     Spain  Female   41   \n",
       "2          3    15619304      Onio          502    France  Female   42   \n",
       "3          4    15701354      Boni          699    France  Female   39   \n",
       "4          5    15737888  Mitchell          850     Spain  Female   43   \n",
       "\n",
       "   Tenure    Balance  NumOfProducts  HasCrCard  IsActiveMember  \\\n",
       "0       2       0.00              1          1               1   \n",
       "1       1   83807.86              1          0               1   \n",
       "2       8  159660.80              3          1               0   \n",
       "3       1       0.00              2          0               0   \n",
       "4       2  125510.82              1          1               1   \n",
       "\n",
       "   EstimatedSalary  Exited  \n",
       "0        101348.88       1  \n",
       "1        112542.58       0  \n",
       "2        113931.57       1  \n",
       "3         93826.63       0  \n",
       "4         79084.10       0  "
      ]
     },
     "execution_count": 3,
     "metadata": {},
     "output_type": "execute_result"
    }
   ],
   "source": [
    "dataset = pd.read_csv('Churn_Modelling.csv')\n",
    "X = dataset.iloc[:,3:13].values\n",
    "Y = dataset.iloc[:,13].values\n",
    "dataset.head()"
   ]
  },
  {
   "cell_type": "code",
   "execution_count": 4,
   "metadata": {},
   "outputs": [
    {
     "data": {
      "text/plain": [
       "(10000, 14)"
      ]
     },
     "execution_count": 4,
     "metadata": {},
     "output_type": "execute_result"
    }
   ],
   "source": [
    "dataset.shape"
   ]
  },
  {
   "cell_type": "code",
   "execution_count": 5,
   "metadata": {},
   "outputs": [
    {
     "data": {
      "text/plain": [
       "(10000, 10)"
      ]
     },
     "execution_count": 5,
     "metadata": {},
     "output_type": "execute_result"
    }
   ],
   "source": [
    "X.shape"
   ]
  },
  {
   "cell_type": "code",
   "execution_count": 6,
   "metadata": {},
   "outputs": [
    {
     "data": {
      "text/plain": [
       "(10000,)"
      ]
     },
     "execution_count": 6,
     "metadata": {},
     "output_type": "execute_result"
    }
   ],
   "source": [
    "Y.shape"
   ]
  },
  {
   "cell_type": "code",
   "execution_count": 7,
   "metadata": {},
   "outputs": [
    {
     "name": "stdout",
     "output_type": "stream",
     "text": [
      "[[619 'France' 'Female' ... 1 1 101348.88]\n",
      " [608 'Spain' 'Female' ... 0 1 112542.58]\n",
      " [502 'France' 'Female' ... 1 0 113931.57]\n",
      " ...\n",
      " [709 'France' 'Female' ... 0 1 42085.58]\n",
      " [772 'Germany' 'Male' ... 1 0 92888.52]\n",
      " [792 'France' 'Female' ... 1 0 38190.78]]\n"
     ]
    }
   ],
   "source": [
    "print(X)"
   ]
  },
  {
   "cell_type": "code",
   "execution_count": 8,
   "metadata": {},
   "outputs": [],
   "source": [
    "labelencoder_X_1 = LabelEncoder()\n",
    "X[:,1] = labelencoder_X_1.fit_transform(X[:,1])\n",
    "labelencoder_X_2 = LabelEncoder()\n",
    "X[:,2] = labelencoder_X_2.fit_transform(X[:,2])"
   ]
  },
  {
   "cell_type": "code",
   "execution_count": 9,
   "metadata": {},
   "outputs": [
    {
     "name": "stdout",
     "output_type": "stream",
     "text": [
      "[[619 0 0 ... 1 1 101348.88]\n",
      " [608 2 0 ... 0 1 112542.58]\n",
      " [502 0 0 ... 1 0 113931.57]\n",
      " ...\n",
      " [709 0 0 ... 0 1 42085.58]\n",
      " [772 1 1 ... 1 0 92888.52]\n",
      " [792 0 0 ... 1 0 38190.78]]\n"
     ]
    }
   ],
   "source": [
    "print(X)"
   ]
  },
  {
   "cell_type": "code",
   "execution_count": 10,
   "metadata": {},
   "outputs": [],
   "source": [
    "onehotencoder = OneHotEncoder(categorical_features = [1])\n",
    "X = onehotencoder.fit_transform(X).toarray()"
   ]
  },
  {
   "cell_type": "code",
   "execution_count": 11,
   "metadata": {},
   "outputs": [
    {
     "data": {
      "text/plain": [
       "(10000, 12)"
      ]
     },
     "execution_count": 11,
     "metadata": {},
     "output_type": "execute_result"
    }
   ],
   "source": [
    "X.shape"
   ]
  },
  {
   "cell_type": "code",
   "execution_count": 12,
   "metadata": {},
   "outputs": [],
   "source": [
    "X = X[:,1:]"
   ]
  },
  {
   "cell_type": "code",
   "execution_count": 13,
   "metadata": {},
   "outputs": [
    {
     "data": {
      "text/plain": [
       "(10000, 11)"
      ]
     },
     "execution_count": 13,
     "metadata": {},
     "output_type": "execute_result"
    }
   ],
   "source": [
    "X.shape"
   ]
  },
  {
   "cell_type": "code",
   "execution_count": 14,
   "metadata": {},
   "outputs": [
    {
     "name": "stdout",
     "output_type": "stream",
     "text": [
      "[[0.0000000e+00 0.0000000e+00 6.1900000e+02 ... 1.0000000e+00\n",
      "  1.0000000e+00 1.0134888e+05]\n",
      " [0.0000000e+00 1.0000000e+00 6.0800000e+02 ... 0.0000000e+00\n",
      "  1.0000000e+00 1.1254258e+05]\n",
      " [0.0000000e+00 0.0000000e+00 5.0200000e+02 ... 1.0000000e+00\n",
      "  0.0000000e+00 1.1393157e+05]\n",
      " ...\n",
      " [0.0000000e+00 0.0000000e+00 7.0900000e+02 ... 0.0000000e+00\n",
      "  1.0000000e+00 4.2085580e+04]\n",
      " [1.0000000e+00 0.0000000e+00 7.7200000e+02 ... 1.0000000e+00\n",
      "  0.0000000e+00 9.2888520e+04]\n",
      " [0.0000000e+00 0.0000000e+00 7.9200000e+02 ... 1.0000000e+00\n",
      "  0.0000000e+00 3.8190780e+04]]\n"
     ]
    }
   ],
   "source": [
    "print(X)"
   ]
  },
  {
   "cell_type": "code",
   "execution_count": 15,
   "metadata": {},
   "outputs": [],
   "source": [
    "X_train,X_test,Y_train,Y_test = train_test_split(X,Y,test_size = 0.2, random_state = 42)"
   ]
  },
  {
   "cell_type": "code",
   "execution_count": 16,
   "metadata": {},
   "outputs": [],
   "source": [
    "sc=StandardScaler()\n",
    "X_train = sc.fit_transform(X_train)\n",
    "X_test = sc.transform(X_test)"
   ]
  },
  {
   "cell_type": "code",
   "execution_count": 17,
   "metadata": {},
   "outputs": [
    {
     "name": "stderr",
     "output_type": "stream",
     "text": [
      "Using TensorFlow backend.\n"
     ]
    }
   ],
   "source": [
    "import keras\n",
    "from keras.models import Sequential\n",
    "from keras.layers import Dense"
   ]
  },
  {
   "cell_type": "code",
   "execution_count": 18,
   "metadata": {},
   "outputs": [],
   "source": [
    "classifier = Sequential()"
   ]
  },
  {
   "cell_type": "code",
   "execution_count": 19,
   "metadata": {},
   "outputs": [],
   "source": [
    "classifier.add(Dense(units=6, kernel_initializer = 'uniform',activation = 'relu', input_dim = 11))"
   ]
  },
  {
   "cell_type": "code",
   "execution_count": 20,
   "metadata": {},
   "outputs": [],
   "source": [
    "classifier.add(Dense(units=6, kernel_initializer = 'uniform',activation = 'relu'))"
   ]
  },
  {
   "cell_type": "code",
   "execution_count": 21,
   "metadata": {},
   "outputs": [],
   "source": [
    "classifier.add(Dense(units=1, kernel_initializer = 'uniform',activation ='sigmoid'))"
   ]
  },
  {
   "cell_type": "code",
   "execution_count": 22,
   "metadata": {},
   "outputs": [],
   "source": [
    "classifier.compile(optimizer = 'adam',loss = 'binary_crossentropy', metrics =['accuracy'])"
   ]
  },
  {
   "cell_type": "code",
   "execution_count": null,
   "metadata": {},
   "outputs": [
    {
     "name": "stdout",
     "output_type": "stream",
     "text": [
      "Epoch 1/250\n",
      "8000/8000 [==============================] - 4s 528us/step - loss: 0.4856 - acc: 0.7945\n",
      "Epoch 2/250\n",
      "8000/8000 [==============================] - 1s 107us/step - loss: 0.4293 - acc: 0.7945\n",
      "Epoch 3/250\n",
      "8000/8000 [==============================] - 1s 107us/step - loss: 0.4238 - acc: 0.7974\n",
      "Epoch 4/250\n",
      "8000/8000 [==============================] - 1s 126us/step - loss: 0.4206 - acc: 0.8231\n",
      "Epoch 5/250\n",
      "8000/8000 [==============================] - 2s 220us/step - loss: 0.4181 - acc: 0.8289\n",
      "Epoch 6/250\n",
      "8000/8000 [==============================] - 1s 154us/step - loss: 0.4160 - acc: 0.8316\n",
      "Epoch 7/250\n",
      "8000/8000 [==============================] - 1s 167us/step - loss: 0.4144 - acc: 0.8326\n",
      "Epoch 8/250\n",
      "8000/8000 [==============================] - 1s 142us/step - loss: 0.4136 - acc: 0.8340\n",
      "Epoch 9/250\n",
      "8000/8000 [==============================] - 1s 141us/step - loss: 0.4123 - acc: 0.8340\n",
      "Epoch 10/250\n",
      "8000/8000 [==============================] - 1s 142us/step - loss: 0.4116 - acc: 0.8334\n",
      "Epoch 11/250\n",
      "8000/8000 [==============================] - 1s 138us/step - loss: 0.4105 - acc: 0.8345\n",
      "Epoch 12/250\n",
      "8000/8000 [==============================] - 1s 144us/step - loss: 0.4099 - acc: 0.8342\n",
      "Epoch 13/250\n",
      "8000/8000 [==============================] - 1s 146us/step - loss: 0.4095 - acc: 0.8335\n",
      "Epoch 14/250\n",
      "8000/8000 [==============================] - 1s 161us/step - loss: 0.4092 - acc: 0.8346\n",
      "Epoch 15/250\n",
      "8000/8000 [==============================] - 1s 143us/step - loss: 0.4080 - acc: 0.8350\n",
      "Epoch 16/250\n",
      "8000/8000 [==============================] - 1s 144us/step - loss: 0.4081 - acc: 0.8339\n",
      "Epoch 17/250\n",
      "8000/8000 [==============================] - 1s 184us/step - loss: 0.4073 - acc: 0.8341\n",
      "Epoch 18/250\n",
      "8000/8000 [==============================] - 2s 197us/step - loss: 0.4075 - acc: 0.8347\n",
      "Epoch 19/250\n",
      "8000/8000 [==============================] - 2s 190us/step - loss: 0.4068 - acc: 0.8341\n",
      "Epoch 20/250\n",
      "8000/8000 [==============================] - 1s 187us/step - loss: 0.4066 - acc: 0.8350\n",
      "Epoch 21/250\n",
      "8000/8000 [==============================] - 1s 186us/step - loss: 0.4067 - acc: 0.8345\n",
      "Epoch 22/250\n",
      "8000/8000 [==============================] - 1s 169us/step - loss: 0.4061 - acc: 0.8361\n",
      "Epoch 23/250\n",
      "8000/8000 [==============================] - 1s 156us/step - loss: 0.4060 - acc: 0.8350\n",
      "Epoch 24/250\n",
      "8000/8000 [==============================] - 1s 159us/step - loss: 0.4061 - acc: 0.8349\n",
      "Epoch 25/250\n",
      "8000/8000 [==============================] - 1s 156us/step - loss: 0.4062 - acc: 0.8345\n",
      "Epoch 26/250\n",
      "8000/8000 [==============================] - 1s 146us/step - loss: 0.4054 - acc: 0.8346\n",
      "Epoch 27/250\n",
      "8000/8000 [==============================] - 1s 151us/step - loss: 0.4056 - acc: 0.8335\n",
      "Epoch 28/250\n",
      "8000/8000 [==============================] - 1s 167us/step - loss: 0.4049 - acc: 0.8364\n",
      "Epoch 29/250\n",
      "8000/8000 [==============================] - 2s 204us/step - loss: 0.4050 - acc: 0.8344\n",
      "Epoch 30/250\n",
      "8000/8000 [==============================] - 1s 166us/step - loss: 0.4052 - acc: 0.8362\n",
      "Epoch 31/250\n",
      "8000/8000 [==============================] - 1s 151us/step - loss: 0.4045 - acc: 0.8349\n",
      "Epoch 32/250\n",
      "8000/8000 [==============================] - 1s 141us/step - loss: 0.4049 - acc: 0.8352\n",
      "Epoch 33/250\n",
      "8000/8000 [==============================] - 1s 137us/step - loss: 0.4048 - acc: 0.8352\n",
      "Epoch 34/250\n",
      "8000/8000 [==============================] - 1s 156us/step - loss: 0.4051 - acc: 0.8352\n",
      "Epoch 35/250\n",
      "8000/8000 [==============================] - 1s 154us/step - loss: 0.4049 - acc: 0.8340\n",
      "Epoch 36/250\n",
      "8000/8000 [==============================] - 1s 163us/step - loss: 0.4046 - acc: 0.8347\n",
      "Epoch 37/250\n",
      "8000/8000 [==============================] - 1s 154us/step - loss: 0.4047 - acc: 0.8349\n",
      "Epoch 38/250\n",
      "8000/8000 [==============================] - 1s 152us/step - loss: 0.4041 - acc: 0.8341\n",
      "Epoch 39/250\n",
      "8000/8000 [==============================] - 1s 168us/step - loss: 0.4045 - acc: 0.8369\n",
      "Epoch 40/250\n",
      "8000/8000 [==============================] - 1s 161us/step - loss: 0.4043 - acc: 0.8347\n",
      "Epoch 41/250\n",
      "8000/8000 [==============================] - 1s 157us/step - loss: 0.4043 - acc: 0.8345\n",
      "Epoch 42/250\n",
      "8000/8000 [==============================] - 1s 158us/step - loss: 0.4039 - acc: 0.8340\n",
      "Epoch 43/250\n",
      "8000/8000 [==============================] - 1s 157us/step - loss: 0.4040 - acc: 0.8340\n",
      "Epoch 44/250\n",
      "8000/8000 [==============================] - 1s 170us/step - loss: 0.4044 - acc: 0.8354\n",
      "Epoch 45/250\n",
      "8000/8000 [==============================] - 1s 166us/step - loss: 0.4034 - acc: 0.8354\n",
      "Epoch 46/250\n",
      "8000/8000 [==============================] - 1s 166us/step - loss: 0.4041 - acc: 0.8355\n",
      "Epoch 47/250\n",
      "8000/8000 [==============================] - 1s 158us/step - loss: 0.4041 - acc: 0.8362\n",
      "Epoch 48/250\n",
      "8000/8000 [==============================] - 1s 161us/step - loss: 0.4035 - acc: 0.8337\n",
      "Epoch 49/250\n",
      "8000/8000 [==============================] - 1s 157us/step - loss: 0.4039 - acc: 0.8345\n",
      "Epoch 50/250\n",
      "8000/8000 [==============================] - 1s 159us/step - loss: 0.4034 - acc: 0.8366\n",
      "Epoch 51/250\n",
      "8000/8000 [==============================] - 1s 165us/step - loss: 0.4029 - acc: 0.8349\n",
      "Epoch 52/250\n",
      "8000/8000 [==============================] - 1s 168us/step - loss: 0.4035 - acc: 0.8339\n",
      "Epoch 53/250\n",
      "8000/8000 [==============================] - 1s 162us/step - loss: 0.4036 - acc: 0.8355\n",
      "Epoch 54/250\n",
      "8000/8000 [==============================] - 1s 142us/step - loss: 0.4034 - acc: 0.8335\n",
      "Epoch 55/250\n",
      "8000/8000 [==============================] - 1s 144us/step - loss: 0.4036 - acc: 0.8356\n",
      "Epoch 56/250\n",
      "8000/8000 [==============================] - 1s 144us/step - loss: 0.4035 - acc: 0.8339\n",
      "Epoch 57/250\n",
      "8000/8000 [==============================] - 1s 144us/step - loss: 0.4034 - acc: 0.8352\n",
      "Epoch 58/250\n",
      "8000/8000 [==============================] - 1s 142us/step - loss: 0.4035 - acc: 0.8362\n",
      "Epoch 59/250\n",
      "8000/8000 [==============================] - 1s 149us/step - loss: 0.4036 - acc: 0.8346\n",
      "Epoch 60/250\n",
      "8000/8000 [==============================] - 1s 158us/step - loss: 0.4030 - acc: 0.8340\n",
      "Epoch 61/250\n",
      "8000/8000 [==============================] - 1s 147us/step - loss: 0.4031 - acc: 0.8355\n",
      "Epoch 62/250\n",
      "8000/8000 [==============================] - 1s 138us/step - loss: 0.4034 - acc: 0.8346\n",
      "Epoch 63/250\n",
      "8000/8000 [==============================] - 1s 140us/step - loss: 0.4028 - acc: 0.8355\n",
      "Epoch 64/250\n",
      "8000/8000 [==============================] - 1s 142us/step - loss: 0.4026 - acc: 0.8350\n",
      "Epoch 65/250\n",
      "8000/8000 [==============================] - 1s 147us/step - loss: 0.4027 - acc: 0.8346\n",
      "Epoch 66/250\n",
      "8000/8000 [==============================] - 1s 150us/step - loss: 0.4027 - acc: 0.8336\n",
      "Epoch 67/250\n",
      "8000/8000 [==============================] - 1s 146us/step - loss: 0.4031 - acc: 0.8341\n",
      "Epoch 68/250\n",
      "8000/8000 [==============================] - 1s 142us/step - loss: 0.4026 - acc: 0.8349\n",
      "Epoch 69/250\n",
      "8000/8000 [==============================] - 1s 139us/step - loss: 0.4030 - acc: 0.8354\n",
      "Epoch 70/250\n",
      "8000/8000 [==============================] - 1s 146us/step - loss: 0.4028 - acc: 0.8351\n",
      "Epoch 71/250\n",
      "8000/8000 [==============================] - 1s 156us/step - loss: 0.4021 - acc: 0.8351\n",
      "Epoch 72/250\n",
      "8000/8000 [==============================] - 1s 171us/step - loss: 0.4019 - acc: 0.8351\n",
      "Epoch 73/250\n",
      "8000/8000 [==============================] - 1s 160us/step - loss: 0.4018 - acc: 0.8356\n",
      "Epoch 74/250\n",
      "8000/8000 [==============================] - 1s 162us/step - loss: 0.4013 - acc: 0.8360\n",
      "Epoch 75/250\n",
      "8000/8000 [==============================] - 1s 135us/step - loss: 0.4009 - acc: 0.8349\n",
      "Epoch 76/250\n",
      "8000/8000 [==============================] - 1s 161us/step - loss: 0.3999 - acc: 0.8351\n",
      "Epoch 77/250\n",
      "8000/8000 [==============================] - 1s 162us/step - loss: 0.4002 - acc: 0.8362 1s - los\n",
      "Epoch 78/250\n",
      "8000/8000 [==============================] - 1s 178us/step - loss: 0.3996 - acc: 0.8359\n",
      "Epoch 79/250\n",
      "8000/8000 [==============================] - 1s 178us/step - loss: 0.3999 - acc: 0.8345\n",
      "Epoch 80/250\n",
      "8000/8000 [==============================] - 1s 175us/step - loss: 0.3994 - acc: 0.8361\n",
      "Epoch 81/250\n",
      "8000/8000 [==============================] - 1s 160us/step - loss: 0.3990 - acc: 0.8370\n",
      "Epoch 82/250\n"
     ]
    },
    {
     "name": "stdout",
     "output_type": "stream",
     "text": [
      "8000/8000 [==============================] - 1s 154us/step - loss: 0.3991 - acc: 0.8375\n",
      "Epoch 83/250\n",
      "8000/8000 [==============================] - 1s 166us/step - loss: 0.3986 - acc: 0.8362\n",
      "Epoch 84/250\n",
      "8000/8000 [==============================] - 1s 151us/step - loss: 0.3985 - acc: 0.8369\n",
      "Epoch 85/250\n",
      "8000/8000 [==============================] - 1s 150us/step - loss: 0.3982 - acc: 0.8355\n",
      "Epoch 86/250\n",
      "8000/8000 [==============================] - 1s 144us/step - loss: 0.3985 - acc: 0.8352\n",
      "Epoch 87/250\n",
      "8000/8000 [==============================] - 1s 142us/step - loss: 0.3981 - acc: 0.8361\n",
      "Epoch 88/250\n",
      "8000/8000 [==============================] - 1s 131us/step - loss: 0.3981 - acc: 0.8364\n",
      "Epoch 89/250\n",
      "8000/8000 [==============================] - 1s 133us/step - loss: 0.3976 - acc: 0.8357\n",
      "Epoch 90/250\n",
      "8000/8000 [==============================] - ETA: 0s - loss: 0.3999 - acc: 0.835 - 1s 134us/step - loss: 0.3974 - acc: 0.8365\n",
      "Epoch 91/250\n",
      "8000/8000 [==============================] - 1s 145us/step - loss: 0.3977 - acc: 0.8364\n",
      "Epoch 92/250\n",
      "8000/8000 [==============================] - 1s 144us/step - loss: 0.3975 - acc: 0.8369\n",
      "Epoch 93/250\n",
      "8000/8000 [==============================] - 1s 135us/step - loss: 0.3976 - acc: 0.8369\n",
      "Epoch 94/250\n",
      "8000/8000 [==============================] - 1s 133us/step - loss: 0.3974 - acc: 0.8380\n",
      "Epoch 95/250\n",
      "8000/8000 [==============================] - 1s 133us/step - loss: 0.3972 - acc: 0.8369\n",
      "Epoch 96/250\n",
      "8000/8000 [==============================] - 1s 140us/step - loss: 0.3972 - acc: 0.8385\n",
      "Epoch 97/250\n",
      "8000/8000 [==============================] - 1s 138us/step - loss: 0.3969 - acc: 0.8369\n",
      "Epoch 98/250\n",
      "8000/8000 [==============================] - 1s 138us/step - loss: 0.3973 - acc: 0.8376\n",
      "Epoch 99/250\n",
      "8000/8000 [==============================] - 1s 127us/step - loss: 0.3970 - acc: 0.8370\n",
      "Epoch 100/250\n",
      "8000/8000 [==============================] - 1s 150us/step - loss: 0.3969 - acc: 0.8375\n",
      "Epoch 101/250\n",
      "8000/8000 [==============================] - 1s 173us/step - loss: 0.3964 - acc: 0.8382\n",
      "Epoch 102/250\n",
      "8000/8000 [==============================] - 1s 148us/step - loss: 0.3969 - acc: 0.8374\n",
      "Epoch 103/250\n",
      "8000/8000 [==============================] - 1s 149us/step - loss: 0.3968 - acc: 0.8369\n",
      "Epoch 104/250\n",
      "8000/8000 [==============================] - 1s 162us/step - loss: 0.3968 - acc: 0.8366\n",
      "Epoch 105/250\n",
      "8000/8000 [==============================] - 1s 161us/step - loss: 0.3964 - acc: 0.8366\n",
      "Epoch 106/250\n",
      "8000/8000 [==============================] - 1s 179us/step - loss: 0.3966 - acc: 0.8389\n",
      "Epoch 107/250\n",
      "8000/8000 [==============================] - 1s 160us/step - loss: 0.3964 - acc: 0.8384\n",
      "Epoch 108/250\n",
      "8000/8000 [==============================] - 1s 183us/step - loss: 0.3966 - acc: 0.8376\n",
      "Epoch 109/250\n",
      "8000/8000 [==============================] - 1s 182us/step - loss: 0.3961 - acc: 0.8380\n",
      "Epoch 110/250\n",
      "8000/8000 [==============================] - 1s 186us/step - loss: 0.3967 - acc: 0.8374\n",
      "Epoch 111/250\n",
      "8000/8000 [==============================] - 1s 172us/step - loss: 0.3961 - acc: 0.8387\n",
      "Epoch 112/250\n",
      "8000/8000 [==============================] - 1s 173us/step - loss: 0.3961 - acc: 0.8375\n",
      "Epoch 113/250\n",
      "8000/8000 [==============================] - 1s 163us/step - loss: 0.3961 - acc: 0.8379\n",
      "Epoch 114/250\n",
      "8000/8000 [==============================] - 1s 179us/step - loss: 0.3960 - acc: 0.8375\n",
      "Epoch 115/250\n",
      "8000/8000 [==============================] - 1s 168us/step - loss: 0.3964 - acc: 0.8375\n",
      "Epoch 116/250\n",
      "8000/8000 [==============================] - 1s 168us/step - loss: 0.3958 - acc: 0.8377\n",
      "Epoch 117/250\n",
      "8000/8000 [==============================] - 1s 175us/step - loss: 0.3954 - acc: 0.8377\n",
      "Epoch 118/250\n",
      "8000/8000 [==============================] - 1s 163us/step - loss: 0.3958 - acc: 0.8376\n",
      "Epoch 119/250\n",
      "8000/8000 [==============================] - 1s 164us/step - loss: 0.3960 - acc: 0.8384\n",
      "Epoch 120/250\n",
      "8000/8000 [==============================] - 1s 161us/step - loss: 0.3956 - acc: 0.8386\n",
      "Epoch 121/250\n",
      "8000/8000 [==============================] - 1s 167us/step - loss: 0.3964 - acc: 0.8385\n",
      "Epoch 122/250\n",
      "8000/8000 [==============================] - 1s 180us/step - loss: 0.3954 - acc: 0.8392\n",
      "Epoch 123/250\n",
      "8000/8000 [==============================] - 1s 172us/step - loss: 0.3956 - acc: 0.8391\n",
      "Epoch 124/250\n",
      "8000/8000 [==============================] - 1s 178us/step - loss: 0.3956 - acc: 0.8396\n",
      "Epoch 125/250\n",
      "8000/8000 [==============================] - 1s 176us/step - loss: 0.3956 - acc: 0.8376\n",
      "Epoch 126/250\n",
      "8000/8000 [==============================] - 1s 172us/step - loss: 0.3955 - acc: 0.8375\n",
      "Epoch 127/250\n",
      "8000/8000 [==============================] - 1s 168us/step - loss: 0.3951 - acc: 0.8390\n",
      "Epoch 128/250\n",
      "8000/8000 [==============================] - 1s 170us/step - loss: 0.3955 - acc: 0.8391\n",
      "Epoch 129/250\n",
      "8000/8000 [==============================] - 1s 167us/step - loss: 0.3954 - acc: 0.8382\n",
      "Epoch 130/250\n",
      "8000/8000 [==============================] - 1s 170us/step - loss: 0.3957 - acc: 0.8392\n",
      "Epoch 131/250\n",
      "8000/8000 [==============================] - 1s 173us/step - loss: 0.3953 - acc: 0.8382\n",
      "Epoch 132/250\n",
      "8000/8000 [==============================] - 1s 174us/step - loss: 0.3953 - acc: 0.8359\n",
      "Epoch 133/250\n",
      "8000/8000 [==============================] - 1s 168us/step - loss: 0.3955 - acc: 0.8390\n",
      "Epoch 134/250\n",
      "8000/8000 [==============================] - 1s 163us/step - loss: 0.3953 - acc: 0.8367 1s - l\n",
      "Epoch 135/250\n",
      "8000/8000 [==============================] - 1s 184us/step - loss: 0.3949 - acc: 0.8384\n",
      "Epoch 136/250\n",
      "8000/8000 [==============================] - 1s 159us/step - loss: 0.3945 - acc: 0.8382\n",
      "Epoch 137/250\n",
      "8000/8000 [==============================] - 1s 172us/step - loss: 0.3948 - acc: 0.8376\n",
      "Epoch 138/250\n",
      "8000/8000 [==============================] - 1s 168us/step - loss: 0.3953 - acc: 0.8375\n",
      "Epoch 139/250\n",
      "8000/8000 [==============================] - 1s 167us/step - loss: 0.3944 - acc: 0.8360\n",
      "Epoch 140/250\n",
      "8000/8000 [==============================] - 1s 157us/step - loss: 0.3955 - acc: 0.8384\n",
      "Epoch 141/250\n",
      "8000/8000 [==============================] - 1s 154us/step - loss: 0.3943 - acc: 0.8392\n",
      "Epoch 142/250\n",
      "8000/8000 [==============================] - 1s 155us/step - loss: 0.3947 - acc: 0.8364\n",
      "Epoch 143/250\n",
      "8000/8000 [==============================] - 1s 153us/step - loss: 0.3945 - acc: 0.8374\n",
      "Epoch 144/250\n",
      "8000/8000 [==============================] - 1s 161us/step - loss: 0.3953 - acc: 0.8371\n",
      "Epoch 145/250\n",
      "8000/8000 [==============================] - 1s 159us/step - loss: 0.3946 - acc: 0.8404\n",
      "Epoch 146/250\n",
      "8000/8000 [==============================] - 1s 161us/step - loss: 0.3946 - acc: 0.8380\n",
      "Epoch 147/250\n",
      "8000/8000 [==============================] - 1s 164us/step - loss: 0.3953 - acc: 0.8381\n",
      "Epoch 148/250\n",
      "8000/8000 [==============================] - 1s 169us/step - loss: 0.3946 - acc: 0.8386\n",
      "Epoch 149/250\n",
      "8000/8000 [==============================] - 1s 160us/step - loss: 0.3947 - acc: 0.8387\n",
      "Epoch 150/250\n",
      "8000/8000 [==============================] - 1s 161us/step - loss: 0.3937 - acc: 0.8379\n",
      "Epoch 151/250\n",
      "8000/8000 [==============================] - 1s 153us/step - loss: 0.3947 - acc: 0.8396\n",
      "Epoch 152/250\n",
      "8000/8000 [==============================] - 1s 153us/step - loss: 0.3945 - acc: 0.8394\n",
      "Epoch 153/250\n",
      "8000/8000 [==============================] - 1s 154us/step - loss: 0.3947 - acc: 0.8381\n",
      "Epoch 154/250\n",
      "8000/8000 [==============================] - 1s 157us/step - loss: 0.3945 - acc: 0.8375\n",
      "Epoch 155/250\n",
      "8000/8000 [==============================] - 1s 163us/step - loss: 0.3951 - acc: 0.8394\n",
      "Epoch 156/250\n",
      "8000/8000 [==============================] - 1s 187us/step - loss: 0.3941 - acc: 0.8404\n",
      "Epoch 157/250\n",
      "8000/8000 [==============================] - 1s 182us/step - loss: 0.3948 - acc: 0.8389\n",
      "Epoch 158/250\n",
      "8000/8000 [==============================] - 1s 160us/step - loss: 0.3948 - acc: 0.8381\n",
      "Epoch 159/250\n",
      "8000/8000 [==============================] - 2s 201us/step - loss: 0.3940 - acc: 0.8377\n",
      "Epoch 160/250\n",
      "8000/8000 [==============================] - 2s 208us/step - loss: 0.3946 - acc: 0.8405\n",
      "Epoch 161/250\n",
      "8000/8000 [==============================] - 2s 199us/step - loss: 0.3947 - acc: 0.8380\n",
      "Epoch 162/250\n"
     ]
    },
    {
     "name": "stdout",
     "output_type": "stream",
     "text": [
      "8000/8000 [==============================] - 1s 171us/step - loss: 0.3945 - acc: 0.8387\n",
      "Epoch 163/250\n",
      "8000/8000 [==============================] - 1s 163us/step - loss: 0.3943 - acc: 0.8409\n",
      "Epoch 164/250\n",
      "8000/8000 [==============================] - 1s 159us/step - loss: 0.3938 - acc: 0.8380\n",
      "Epoch 165/250\n",
      "8000/8000 [==============================] - 1s 161us/step - loss: 0.3945 - acc: 0.8387\n",
      "Epoch 166/250\n",
      "8000/8000 [==============================] - 1s 167us/step - loss: 0.3937 - acc: 0.8387\n",
      "Epoch 167/250\n",
      "8000/8000 [==============================] - 1s 142us/step - loss: 0.3947 - acc: 0.8377\n",
      "Epoch 168/250\n",
      "8000/8000 [==============================] - 1s 137us/step - loss: 0.3942 - acc: 0.8386\n",
      "Epoch 169/250\n",
      "8000/8000 [==============================] - 1s 147us/step - loss: 0.3941 - acc: 0.8402\n",
      "Epoch 170/250\n",
      "8000/8000 [==============================] - 1s 165us/step - loss: 0.3942 - acc: 0.8381\n",
      "Epoch 171/250\n",
      "8000/8000 [==============================] - 1s 151us/step - loss: 0.3940 - acc: 0.8410\n",
      "Epoch 172/250\n",
      "8000/8000 [==============================] - 1s 177us/step - loss: 0.3946 - acc: 0.8387\n",
      "Epoch 173/250\n",
      "8000/8000 [==============================] - 1s 152us/step - loss: 0.3948 - acc: 0.8390\n",
      "Epoch 174/250\n",
      "8000/8000 [==============================] - 1s 158us/step - loss: 0.3943 - acc: 0.8401\n",
      "Epoch 175/250\n",
      "8000/8000 [==============================] - 1s 149us/step - loss: 0.3945 - acc: 0.8396\n",
      "Epoch 176/250\n",
      "8000/8000 [==============================] - 1s 143us/step - loss: 0.3945 - acc: 0.8381\n",
      "Epoch 177/250\n",
      "8000/8000 [==============================] - 1s 157us/step - loss: 0.3945 - acc: 0.8384 1s - loss:\n",
      "Epoch 178/250\n",
      "8000/8000 [==============================] - 1s 150us/step - loss: 0.3940 - acc: 0.8411\n",
      "Epoch 179/250\n",
      "8000/8000 [==============================] - 1s 143us/step - loss: 0.3946 - acc: 0.8387\n",
      "Epoch 180/250\n",
      "8000/8000 [==============================] - 1s 142us/step - loss: 0.3942 - acc: 0.8380\n",
      "Epoch 181/250\n",
      "8000/8000 [==============================] - 1s 138us/step - loss: 0.3944 - acc: 0.8382\n",
      "Epoch 182/250\n",
      "8000/8000 [==============================] - 1s 153us/step - loss: 0.3944 - acc: 0.8380\n",
      "Epoch 183/250\n",
      "8000/8000 [==============================] - 1s 141us/step - loss: 0.3945 - acc: 0.8380\n",
      "Epoch 184/250\n",
      "8000/8000 [==============================] - 1s 142us/step - loss: 0.3944 - acc: 0.8391\n",
      "Epoch 185/250\n",
      "8000/8000 [==============================] - 1s 140us/step - loss: 0.3944 - acc: 0.8397\n",
      "Epoch 186/250\n",
      "8000/8000 [==============================] - 1s 148us/step - loss: 0.3940 - acc: 0.8384\n",
      "Epoch 187/250\n",
      "8000/8000 [==============================] - 1s 160us/step - loss: 0.3942 - acc: 0.8379\n",
      "Epoch 188/250\n",
      "8000/8000 [==============================] - 1s 172us/step - loss: 0.3944 - acc: 0.8402 1s - \n",
      "Epoch 189/250\n",
      "8000/8000 [==============================] - 1s 154us/step - loss: 0.3945 - acc: 0.8381\n",
      "Epoch 190/250\n",
      "4860/8000 [=================>............] - ETA: 0s - loss: 0.3808 - acc: 0.8440"
     ]
    }
   ],
   "source": [
    "classifier.fit(X_train,Y_train, batch_size =10, epochs = 250)"
   ]
  },
  {
   "cell_type": "code",
   "execution_count": 28,
   "metadata": {},
   "outputs": [],
   "source": [
    "pred_y = classifier.predict(X_test)\n",
    "pred_y = (pred_y>0.5)"
   ]
  },
  {
   "cell_type": "code",
   "execution_count": 29,
   "metadata": {},
   "outputs": [
    {
     "name": "stdout",
     "output_type": "stream",
     "text": [
      "[[False]\n",
      " [False]\n",
      " [False]\n",
      " ...\n",
      " [ True]\n",
      " [False]\n",
      " [False]]\n"
     ]
    }
   ],
   "source": [
    "print(pred_y)"
   ]
  },
  {
   "cell_type": "code",
   "execution_count": 30,
   "metadata": {},
   "outputs": [
    {
     "name": "stdout",
     "output_type": "stream",
     "text": [
      "2000/2000 [==============================] - 0s 60us/step\n"
     ]
    },
    {
     "data": {
      "text/plain": [
       "[0.38794395232200624, 0.8405]"
      ]
     },
     "execution_count": 30,
     "metadata": {},
     "output_type": "execute_result"
    }
   ],
   "source": [
    "score = classifier.evaluate(X_test,Y_test)\n",
    "score"
   ]
  },
  {
   "cell_type": "code",
   "execution_count": null,
   "metadata": {},
   "outputs": [],
   "source": []
  }
 ],
 "metadata": {
  "kernelspec": {
   "display_name": "Python 3",
   "language": "python",
   "name": "python3"
  },
  "language_info": {
   "codemirror_mode": {
    "name": "ipython",
    "version": 3
   },
   "file_extension": ".py",
   "mimetype": "text/x-python",
   "name": "python",
   "nbconvert_exporter": "python",
   "pygments_lexer": "ipython3",
   "version": "3.6.5"
  }
 },
 "nbformat": 4,
 "nbformat_minor": 2
}
